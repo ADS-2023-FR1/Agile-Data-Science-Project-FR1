{
 "cells": [
  {
   "cell_type": "code",
   "execution_count": 4,
   "id": "1e278714",
   "metadata": {},
   "outputs": [
    {
     "name": "stdout",
     "output_type": "stream",
     "text": [
      "Ratings DataFrame:\n",
      "   userId  movieId  rating  timestamp\n",
      "0     196      242       3  881250949\n",
      "1     186      302       3  891717742\n",
      "2      22      377       1  878887116\n",
      "3     244       51       2  880606923\n",
      "4     166      346       1  886397596\n",
      "\n",
      "Users DataFrame:\n",
      "   userId  age gender  occupation zip_code\n",
      "0       1   24      M  technician    85711\n",
      "1       2   53      F       other    94043\n",
      "2       3   23      M      writer    32067\n",
      "3       4   24      M  technician    43537\n",
      "4       5   33      F       other    15213\n",
      "\n",
      "Items DataFrame:\n",
      "   movieId              title release_date  video_release_date  \\\n",
      "0        1   Toy Story (1995)  01-Jan-1995                 NaN   \n",
      "1        2   GoldenEye (1995)  01-Jan-1995                 NaN   \n",
      "2        3  Four Rooms (1995)  01-Jan-1995                 NaN   \n",
      "3        4  Get Shorty (1995)  01-Jan-1995                 NaN   \n",
      "4        5     Copycat (1995)  01-Jan-1995                 NaN   \n",
      "\n",
      "                                            IMDb_URL  unknown  Action  \\\n",
      "0  http://us.imdb.com/M/title-exact?Toy%20Story%2...        0       0   \n",
      "1  http://us.imdb.com/M/title-exact?GoldenEye%20(...        0       1   \n",
      "2  http://us.imdb.com/M/title-exact?Four%20Rooms%...        0       0   \n",
      "3  http://us.imdb.com/M/title-exact?Get%20Shorty%...        0       1   \n",
      "4  http://us.imdb.com/M/title-exact?Copycat%20(1995)        0       0   \n",
      "\n",
      "   Adventure  Animation  Children  ...  Fantasy  Film-Noir  Horror  Musical  \\\n",
      "0          0          1         1  ...        0          0       0        0   \n",
      "1          1          0         0  ...        0          0       0        0   \n",
      "2          0          0         0  ...        0          0       0        0   \n",
      "3          0          0         0  ...        0          0       0        0   \n",
      "4          0          0         0  ...        0          0       0        0   \n",
      "\n",
      "   Mystery  Romance  Sci-Fi  Thriller  War  Western  \n",
      "0        0        0       0         0    0        0  \n",
      "1        0        0       0         1    0        0  \n",
      "2        0        0       0         1    0        0  \n",
      "3        0        0       0         0    0        0  \n",
      "4        0        0       0         1    0        0  \n",
      "\n",
      "[5 rows x 24 columns]\n"
     ]
    }
   ],
   "source": [
    "import pandas as pd\n",
    "\n",
    "# Specify the file paths (adjust paths accordingly)\n",
    "ratings_path = 'ml-100k/u.data'\n",
    "users_path = 'ml-100k/u.user'\n",
    "items_path = 'ml-100k/u.item'\n",
    "\n",
    "# Define column names for the data files\n",
    "ratings_columns = ['userId', 'movieId', 'rating', 'timestamp']\n",
    "users_columns = ['userId', 'age', 'gender', 'occupation', 'zip_code']\n",
    "items_columns = ['movieId', 'title', 'release_date', 'video_release_date', 'IMDb_URL', 'unknown', 'Action', 'Adventure', 'Animation', 'Children', 'Comedy', 'Crime', 'Documentary', 'Drama', 'Fantasy', 'Film-Noir', 'Horror', 'Musical', 'Mystery', 'Romance', 'Sci-Fi', 'Thriller', 'War', 'Western']\n",
    "\n",
    "# Load data into DataFrames\n",
    "ratings_df = pd.read_csv(ratings_path, sep='\\t', names=ratings_columns)\n",
    "users_df = pd.read_csv(users_path, sep='|', names=users_columns)\n",
    "items_df = pd.read_csv(items_path, sep='|', names=items_columns, encoding='latin-1')\n",
    "\n",
    "# Display the first few rows of each DataFrame for verification\n",
    "print(\"Ratings DataFrame:\")\n",
    "print(ratings_df.head())\n",
    "\n",
    "print(\"\\nUsers DataFrame:\")\n",
    "print(users_df.head())\n",
    "\n",
    "print(\"\\nItems DataFrame:\")\n",
    "print(items_df.head())\n"
   ]
  },
  {
   "cell_type": "markdown",
   "id": "622fdf2b",
   "metadata": {},
   "source": [
    "I belive that we can use the following paramaters to make an recommendation/prediction\n",
    "\n",
    "- age\n",
    "- gender\n",
    "- occupation\n",
    "- genera\n",
    "- decade\n"
   ]
  },
  {
   "cell_type": "markdown",
   "id": "ebf6876e",
   "metadata": {},
   "source": [
    "The diagram below is just a visualization of how the components will communicate"
   ]
  },
  {
   "cell_type": "markdown",
   "id": "437a1025",
   "metadata": {},
   "source": [
    "./Agile-Data-Science-Project-FR1/Documentation/img/diagram.png"
   ]
  }
 ],
 "metadata": {
  "kernelspec": {
   "display_name": "Python 3 (ipykernel)",
   "language": "python",
   "name": "python3"
  },
  "language_info": {
   "codemirror_mode": {
    "name": "ipython",
    "version": 3
   },
   "file_extension": ".py",
   "mimetype": "text/x-python",
   "name": "python",
   "nbconvert_exporter": "python",
   "pygments_lexer": "ipython3",
   "version": "3.11.5"
  }
 },
 "nbformat": 4,
 "nbformat_minor": 5
}
