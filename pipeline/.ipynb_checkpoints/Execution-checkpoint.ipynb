{
 "cells": [
  {
   "cell_type": "code",
   "execution_count": 1,
   "id": "a4dedc7a-06ce-46d0-98ce-e59ecea85c97",
   "metadata": {},
   "outputs": [],
   "source": [
    "import numpy as np\n",
    "\n",
    "model_path = \"../pipeline/trained_model\"\n",
    "model_path = \"../pipeline/trained_model_sequence\"\n",
    "#model_path = \"../pipeline/trained_model_factorizer\"\n",
    "#model_path = \"../pipeline/factorizer_model_mockuserid6041\"\n",
    "\n",
    "\n",
    "n_recom = 5\n",
    "movies = np.array(['Sabrina', 'Mortal Kombat'])"
   ]
  },
  {
   "cell_type": "code",
   "execution_count": 2,
   "id": "132b7f64-9889-4765-886c-be2f37c70571",
   "metadata": {},
   "outputs": [],
   "source": [
    "from user_interactions import *\n",
    "from settings_definition import *"
   ]
  },
  {
   "cell_type": "code",
   "execution_count": 3,
   "id": "9ee1af8c-f830-48a1-9c80-57f58472a152",
   "metadata": {},
   "outputs": [],
   "source": [
    "import os\n",
    "os.chdir(\"../spotlight\")\n",
    "# for me, it only works if I'm in the spotlight directory"
   ]
  },
  {
   "cell_type": "code",
   "execution_count": 28,
   "id": "51e50c31-9af7-4969-8e18-d2508a582e82",
   "metadata": {},
   "outputs": [
    {
     "name": "stdout",
     "output_type": "stream",
     "text": [
      "['Home for the Holidays (1995)', 'Bottle Rocket (1996)', 'Guardian Angel (1994)', 'Moonlight and Valentino (1995)', 'Clerks (1994)']\n"
     ]
    }
   ],
   "source": [
    "# Execution\n",
    "\n",
    "titles = recommend_new_sequence(movies, model_path, n_recom=n_recom)\n",
    "print(titles)"
   ]
  },
  {
   "cell_type": "code",
   "execution_count": null,
   "id": "bc2a9077-7c04-4f57-b80c-3aad0a3c3112",
   "metadata": {},
   "outputs": [],
   "source": []
  }
 ],
 "metadata": {
  "kernelspec": {
   "display_name": "Python 3 (ipykernel)",
   "language": "python",
   "name": "python3"
  },
  "language_info": {
   "codemirror_mode": {
    "name": "ipython",
    "version": 3
   },
   "file_extension": ".py",
   "mimetype": "text/x-python",
   "name": "python",
   "nbconvert_exporter": "python",
   "pygments_lexer": "ipython3",
   "version": "3.10.13"
  }
 },
 "nbformat": 4,
 "nbformat_minor": 5
}
