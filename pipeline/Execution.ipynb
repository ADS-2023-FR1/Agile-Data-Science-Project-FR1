{
 "cells": [
  {
   "cell_type": "code",
   "execution_count": 23,
   "id": "a4dedc7a-06ce-46d0-98ce-e59ecea85c97",
   "metadata": {},
   "outputs": [],
   "source": [
    "import numpy as np\n",
    "\n",
    "model_path = \"../pipeline/trained_model\"\n",
    "model_path = \"../pipeline/trained_model_sequence\"\n",
    "#model_path = \"../pipeline/trained_model_factorizer\"\n",
    "n_recom = 5\n",
    "movies = np.array(['Sabrina', 'Mortal Kombat'])"
   ]
  },
  {
   "cell_type": "code",
   "execution_count": 19,
   "id": "132b7f64-9889-4765-886c-be2f37c70571",
   "metadata": {},
   "outputs": [],
   "source": [
    "from user_interactions import *\n",
    "from settings_definition import *"
   ]
  },
  {
   "cell_type": "code",
   "execution_count": 20,
   "id": "9ee1af8c-f830-48a1-9c80-57f58472a152",
   "metadata": {},
   "outputs": [],
   "source": [
    "import os\n",
    "os.chdir(\"../spotlight\")\n",
    "# for me, it only works if I'm in the spotlight directory"
   ]
  },
  {
   "cell_type": "code",
   "execution_count": 24,
   "id": "51e50c31-9af7-4969-8e18-d2508a582e82",
   "metadata": {},
   "outputs": [
    {
     "ename": "AttributeError",
     "evalue": "'list' object has no attribute 'max'",
     "output_type": "error",
     "traceback": [
      "\u001b[0;31m---------------------------------------------------------------------------\u001b[0m",
      "\u001b[0;31mAttributeError\u001b[0m                            Traceback (most recent call last)",
      "Cell \u001b[0;32mIn[24], line 3\u001b[0m\n\u001b[1;32m      1\u001b[0m \u001b[38;5;66;03m# Execution\u001b[39;00m\n\u001b[0;32m----> 3\u001b[0m titles \u001b[38;5;241m=\u001b[39m \u001b[43mrecommend_new_sequence\u001b[49m\u001b[43m(\u001b[49m\u001b[43mmovies\u001b[49m\u001b[43m,\u001b[49m\u001b[43m \u001b[49m\u001b[43mmodel_path\u001b[49m\u001b[43m,\u001b[49m\u001b[43m \u001b[49m\u001b[43mn_recom\u001b[49m\u001b[38;5;241;43m=\u001b[39;49m\u001b[43mn_recom\u001b[49m\u001b[43m)\u001b[49m\n\u001b[1;32m      4\u001b[0m \u001b[38;5;28mprint\u001b[39m(titles)\n",
      "File \u001b[0;32m~/Documents/master/agile/Agile-Data-Science-Project-FR1/pipeline/user_interactions.py:56\u001b[0m, in \u001b[0;36mrecommend_new_sequence\u001b[0;34m(movies, model_path, n_recom)\u001b[0m\n\u001b[1;32m     53\u001b[0m movies_ids \u001b[38;5;241m=\u001b[39m [get_movie_id(m) \u001b[38;5;28;01mfor\u001b[39;00m m \u001b[38;5;129;01min\u001b[39;00m movies]\n\u001b[1;32m     54\u001b[0m spotlight_model \u001b[38;5;241m=\u001b[39m torch\u001b[38;5;241m.\u001b[39mload(model_path) \u001b[38;5;66;03m# Load model\u001b[39;00m\n\u001b[0;32m---> 56\u001b[0m pred \u001b[38;5;241m=\u001b[39m \u001b[43mspotlight_model\u001b[49m\u001b[38;5;241;43m.\u001b[39;49m\u001b[43mpredict\u001b[49m\u001b[43m(\u001b[49m\u001b[43mmovies_ids\u001b[49m\u001b[43m)\u001b[49m \u001b[38;5;66;03m# In the prediction we could specify a specific subpool in future filter implemtation\u001b[39;00m\n\u001b[1;32m     57\u001b[0m indices \u001b[38;5;241m=\u001b[39m np\u001b[38;5;241m.\u001b[39margpartition(pred, \u001b[38;5;241m-\u001b[39mn_recom)[\u001b[38;5;241m-\u001b[39mn_recom:] \n\u001b[1;32m     58\u001b[0m best_movie_ids \u001b[38;5;241m=\u001b[39m indices[np\u001b[38;5;241m.\u001b[39margsort(pred[indices])]\n",
      "File \u001b[0;32m~/Documents/master/agile/Agile-Data-Science-Project-FR1/spotlight/spotlight/factorization/implicit.py:302\u001b[0m, in \u001b[0;36mImplicitFactorizationModel.predict\u001b[0;34m(self, user_ids, item_ids)\u001b[0m\n\u001b[1;32m    277\u001b[0m \u001b[38;5;28;01mdef\u001b[39;00m \u001b[38;5;21mpredict\u001b[39m(\u001b[38;5;28mself\u001b[39m, user_ids, item_ids\u001b[38;5;241m=\u001b[39m\u001b[38;5;28;01mNone\u001b[39;00m):\n\u001b[1;32m    278\u001b[0m \u001b[38;5;250m    \u001b[39m\u001b[38;5;124;03m\"\"\"\u001b[39;00m\n\u001b[1;32m    279\u001b[0m \u001b[38;5;124;03m    Make predictions: given a user id, compute the recommendation\u001b[39;00m\n\u001b[1;32m    280\u001b[0m \u001b[38;5;124;03m    scores for items.\u001b[39;00m\n\u001b[0;32m   (...)\u001b[0m\n\u001b[1;32m    299\u001b[0m \u001b[38;5;124;03m        Predicted scores for all items in item_ids.\u001b[39;00m\n\u001b[1;32m    300\u001b[0m \u001b[38;5;124;03m    \"\"\"\u001b[39;00m\n\u001b[0;32m--> 302\u001b[0m     \u001b[38;5;28;43mself\u001b[39;49m\u001b[38;5;241;43m.\u001b[39;49m\u001b[43m_check_input\u001b[49m\u001b[43m(\u001b[49m\u001b[43muser_ids\u001b[49m\u001b[43m,\u001b[49m\u001b[43m \u001b[49m\u001b[43mitem_ids\u001b[49m\u001b[43m,\u001b[49m\u001b[43m \u001b[49m\u001b[43mallow_items_none\u001b[49m\u001b[38;5;241;43m=\u001b[39;49m\u001b[38;5;28;43;01mTrue\u001b[39;49;00m\u001b[43m)\u001b[49m\n\u001b[1;32m    303\u001b[0m     \u001b[38;5;28mself\u001b[39m\u001b[38;5;241m.\u001b[39m_net\u001b[38;5;241m.\u001b[39mtrain(\u001b[38;5;28;01mFalse\u001b[39;00m)\n\u001b[1;32m    305\u001b[0m     user_ids, item_ids \u001b[38;5;241m=\u001b[39m _predict_process_ids(user_ids, item_ids,\n\u001b[1;32m    306\u001b[0m                                               \u001b[38;5;28mself\u001b[39m\u001b[38;5;241m.\u001b[39m_num_items,\n\u001b[1;32m    307\u001b[0m                                               \u001b[38;5;28mself\u001b[39m\u001b[38;5;241m.\u001b[39m_use_cuda)\n",
      "File \u001b[0;32m~/Documents/master/agile/Agile-Data-Science-Project-FR1/spotlight/spotlight/factorization/implicit.py:166\u001b[0m, in \u001b[0;36mImplicitFactorizationModel._check_input\u001b[0;34m(self, user_ids, item_ids, allow_items_none)\u001b[0m\n\u001b[1;32m    164\u001b[0m     user_id_max \u001b[38;5;241m=\u001b[39m user_ids\n\u001b[1;32m    165\u001b[0m \u001b[38;5;28;01melse\u001b[39;00m:\n\u001b[0;32m--> 166\u001b[0m     user_id_max \u001b[38;5;241m=\u001b[39m \u001b[43muser_ids\u001b[49m\u001b[38;5;241;43m.\u001b[39;49m\u001b[43mmax\u001b[49m()\n\u001b[1;32m    168\u001b[0m \u001b[38;5;28;01mif\u001b[39;00m user_id_max \u001b[38;5;241m>\u001b[39m\u001b[38;5;241m=\u001b[39m \u001b[38;5;28mself\u001b[39m\u001b[38;5;241m.\u001b[39m_num_users:\n\u001b[1;32m    169\u001b[0m     \u001b[38;5;28;01mraise\u001b[39;00m \u001b[38;5;167;01mValueError\u001b[39;00m(\u001b[38;5;124m'\u001b[39m\u001b[38;5;124mMaximum user id greater \u001b[39m\u001b[38;5;124m'\u001b[39m\n\u001b[1;32m    170\u001b[0m                      \u001b[38;5;124m'\u001b[39m\u001b[38;5;124mthan number of users in model.\u001b[39m\u001b[38;5;124m'\u001b[39m)\n",
      "\u001b[0;31mAttributeError\u001b[0m: 'list' object has no attribute 'max'"
     ]
    }
   ],
   "source": [
    "# Execution\n",
    "\n",
    "titles = recommend_new_sequence(movies, model_path, n_recom=n_recom)\n",
    "print(titles)"
   ]
  },
  {
   "cell_type": "code",
   "execution_count": 22,
   "id": "5824ae83-e708-42de-a203-945ddbba3929",
   "metadata": {},
   "outputs": [],
   "source": [
    "import os\n",
    "import torch\n",
    "import numpy as np\n",
    "from user_interactions import *\n",
    "from settings_definition import *\n",
    "\n",
    "#def test_seq_prediction():\n",
    "    \n",
    "    \n",
    "model_path = \"../pipeline/trained_model\"\n",
    "n_recom = 5\n",
    "movies = np.array(['Sabrina', 'Mortal Kombat'])\n",
    "\n",
    "os.chdir(\"../spotlight\")\n",
    "torch.load(model_path)\n",
    "titles = recommend_new_sequence(movies, model_path, n_recom=n_recom)\n",
    "\n",
    "assert len(titles) == n_recom"
   ]
  },
  {
   "cell_type": "code",
   "execution_count": null,
   "id": "01e64c55-f227-4cb7-b734-236ad20b092d",
   "metadata": {},
   "outputs": [],
   "source": []
  }
 ],
 "metadata": {
  "kernelspec": {
   "display_name": "Python 3 (ipykernel)",
   "language": "python",
   "name": "python3"
  },
  "language_info": {
   "codemirror_mode": {
    "name": "ipython",
    "version": 3
   },
   "file_extension": ".py",
   "mimetype": "text/x-python",
   "name": "python",
   "nbconvert_exporter": "python",
   "pygments_lexer": "ipython3",
   "version": "3.10.13"
  }
 },
 "nbformat": 4,
 "nbformat_minor": 5
}
