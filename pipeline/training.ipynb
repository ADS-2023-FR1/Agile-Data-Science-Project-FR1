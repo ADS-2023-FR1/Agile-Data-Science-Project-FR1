{
 "cells": [
  {
   "cell_type": "markdown",
   "id": "ec2bc841-f8bb-4f06-ba2c-ed405435c1ad",
   "metadata": {},
   "source": [
    "This pipeline is designed to train the model in an automated way.\n",
    "First, we will define a config with all the specifications. This dictionary is vital to keep track of the models we have used.\n",
    "Then run the model and extract the metrics that we need, to evaluate the training."
   ]
  },
  {
   "cell_type": "code",
   "execution_count": 1,
   "id": "eed9dd0d-6803-496c-926f-84674e5e7da6",
   "metadata": {},
   "outputs": [
    {
     "name": "stdout",
     "output_type": "stream",
     "text": [
      "{'model': 'sequence', 'submodel': 'implicit', 'loss': 'pointwise', 'representation': 'pooling', 'embedding_dim': 32, 'n_iter': 10, 'batch_size': 256, 'l2': 0.0, 'lr': 0.01, 'optim': None, 'use_cuda': False, 'sparse': False, 'random_state': None, 'num_negative_samples': 5, 'dataset': 'Movielens', 'size': '100K'}\n"
     ]
    }
   ],
   "source": [
    "#import config from file\n",
    "import json\n",
    "\n",
    "with open(\"config.json\", 'r') as f:\n",
    "    config = json.load(f)\n",
    "\n",
    "print(config)"
   ]
  },
  {
   "cell_type": "code",
   "execution_count": 22,
   "id": "36e38cc3-432b-405d-904f-661282e49d65",
   "metadata": {},
   "outputs": [],
   "source": [
    "# or define it manually\n",
    "\n",
    "# config for sequence\n",
    "config = {\n",
    "    # About the model\n",
    "    \"model\": \"sequence\",    # sequence or factorizer\n",
    "    \"submodel\": \"implicit\",    # implicit or explicit\n",
    "    \"loss\": \"bpr\",    # one of ‘pointwise’, ‘bpr’, ‘hinge’, ‘adaptive_hinge’ or 'regression', 'poisson','logistic'\n",
    "    \"representation\": \"pooling\",    # for sequence one of ‘pooling’, ‘cnn’, ‘lstm’, ‘mixture’, for factorizer always NONE !!!\n",
    "    \"embedding_dim\": 32, \n",
    "    \"n_iter\": 10,\n",
    "    \"batch_size\": 256,\n",
    "    \"l2\": 0.0,\n",
    "    \"lr\": 0.01,\n",
    "    \"optim\": None,\n",
    "    \"use_cuda\": False, \n",
    "    \"sparse\": False, \n",
    "    \"random_state\": None, \n",
    "    \"num_negative_samples\": 5,\n",
    "\n",
    "    # About the database\n",
    "    \"dataset\": \"Movielens\",    # Movielens, Synthetic or Goodbooks\n",
    "    \"size\": \"100K\",\n",
    "    # synthetic has a lot of different parameters but I'm not sure we are going to use it\n",
    "}"
   ]
  },
  {
   "cell_type": "code",
   "execution_count": 25,
   "id": "130d2cfa-4392-4123-b48a-85608b217933",
   "metadata": {},
   "outputs": [],
   "source": [
    "# config for factorizer\n",
    "config = {\n",
    "    # About the model\n",
    "    \"model\": \"factorizer\",    # sequence or factorizer\n",
    "    \"submodel\": \"implicit\",    # implicit or explicit\n",
    "    \"loss\": \"bpr\",    # one of ‘pointwise’, ‘bpr’, ‘hinge’, ‘adaptive_hinge’ or 'regression', 'poisson','logistic'\n",
    "    \"representation\": \"None\",    # for sequence one of ‘pooling’, ‘cnn’, ‘lstm’, ‘mixture’, for factorizer always None !!!\n",
    "    \"embedding_dim\": 32, \n",
    "    \"n_iter\": 10,\n",
    "    \"batch_size\": 256,\n",
    "    \"l2\": 0.0,\n",
    "    \"lr\": 0.01,\n",
    "    \"optim\": None,\n",
    "    \"use_cuda\": False, \n",
    "    \"sparse\": False, \n",
    "    \"random_state\": None, \n",
    "    \"num_negative_samples\": 5,\n",
    "\n",
    "    # About the database\n",
    "    \"dataset\": \"Movielens\",    # Movielens, Synthetic or Goodbooks\n",
    "    \"size\": \"100K\",\n",
    "    # synthetic has a lot of different parameters but I'm not sure we are going to use it\n",
    "}"
   ]
  },
  {
   "cell_type": "code",
   "execution_count": 9,
   "id": "04e9210f-bac6-43c3-8a11-7d688d5c6bb2",
   "metadata": {},
   "outputs": [],
   "source": [
    "from settings_definition import *"
   ]
  },
  {
   "cell_type": "code",
   "execution_count": 17,
   "id": "c1e5c3cd-ecf2-4db4-b9ab-348ccb777e3d",
   "metadata": {},
   "outputs": [],
   "source": [
    "def evaluate_model(model, test):\n",
    "    \"\"\"This function evaluates the metric agreed by the team.\n",
    "    At the moment we have not decided which ones so I just pick 2 as an example.\"\"\"\n",
    "    from spotlight.evaluation import mrr_score, precision_recall_score, rmse_score, sequence_mrr_score, sequence_precision_recall_score\n",
    "    eval = {\"mrr\": mrr_score(model, test), \"precision_recall\": precision_recall_score(model, test), #\"rmse\": rmse_score(model, test),\n",
    "            #\"sequence_mrr\":sequence_mrr_score(model, test), \"sequence_precision_recall\": sequence_precision_recall_score(model, test)\n",
    "           }\n",
    "    return eval"
   ]
  },
  {
   "cell_type": "code",
   "execution_count": 18,
   "id": "286be65b-40eb-41e6-aae8-5e17ee56fa1e",
   "metadata": {},
   "outputs": [],
   "source": [
    "import os\n",
    "os.chdir(\"../spotlight\")\n",
    "# for me, it only works if I'm in the spotlight directory"
   ]
  },
  {
   "cell_type": "code",
   "execution_count": 28,
   "id": "327880fa-3b3a-418a-acd0-94947c81e240",
   "metadata": {},
   "outputs": [
    {
     "ename": "AttributeError",
     "evalue": "'str' object has no attribute 'parameters'",
     "output_type": "error",
     "traceback": [
      "\u001b[0;31m---------------------------------------------------------------------------\u001b[0m",
      "\u001b[0;31mAttributeError\u001b[0m                            Traceback (most recent call last)",
      "Cell \u001b[0;32mIn[28], line 10\u001b[0m\n\u001b[1;32m      8\u001b[0m     train, test \u001b[38;5;241m=\u001b[39m train\u001b[38;5;241m.\u001b[39mto_sequence(), test\n\u001b[1;32m      9\u001b[0m model \u001b[38;5;241m=\u001b[39m define_model(config)\n\u001b[0;32m---> 10\u001b[0m \u001b[43mmodel\u001b[49m\u001b[38;5;241;43m.\u001b[39;49m\u001b[43mfit\u001b[49m\u001b[43m(\u001b[49m\u001b[43mtrain\u001b[49m\u001b[43m)\u001b[49m\n\u001b[1;32m     12\u001b[0m \u001b[38;5;28meval\u001b[39m \u001b[38;5;241m=\u001b[39m evaluate_model(model, test)\n\u001b[1;32m     13\u001b[0m \u001b[38;5;28meval\u001b[39m\n",
      "File \u001b[0;32m~/Documents/master/agile/Agile-Data-Science-Project-FR1/spotlight/spotlight/factorization/implicit.py:206\u001b[0m, in \u001b[0;36mImplicitFactorizationModel.fit\u001b[0;34m(self, interactions, verbose)\u001b[0m\n\u001b[1;32m    203\u001b[0m item_ids \u001b[38;5;241m=\u001b[39m interactions\u001b[38;5;241m.\u001b[39mitem_ids\u001b[38;5;241m.\u001b[39mastype(np\u001b[38;5;241m.\u001b[39mint64)\n\u001b[1;32m    205\u001b[0m \u001b[38;5;28;01mif\u001b[39;00m \u001b[38;5;129;01mnot\u001b[39;00m \u001b[38;5;28mself\u001b[39m\u001b[38;5;241m.\u001b[39m_initialized:\n\u001b[0;32m--> 206\u001b[0m     \u001b[38;5;28;43mself\u001b[39;49m\u001b[38;5;241;43m.\u001b[39;49m\u001b[43m_initialize\u001b[49m\u001b[43m(\u001b[49m\u001b[43minteractions\u001b[49m\u001b[43m)\u001b[49m\n\u001b[1;32m    208\u001b[0m \u001b[38;5;28mself\u001b[39m\u001b[38;5;241m.\u001b[39m_check_input(user_ids, item_ids)\n\u001b[1;32m    210\u001b[0m \u001b[38;5;28;01mfor\u001b[39;00m epoch_num \u001b[38;5;129;01min\u001b[39;00m \u001b[38;5;28mrange\u001b[39m(\u001b[38;5;28mself\u001b[39m\u001b[38;5;241m.\u001b[39m_n_iter):\n",
      "File \u001b[0;32m~/Documents/master/agile/Agile-Data-Science-Project-FR1/spotlight/spotlight/factorization/implicit.py:145\u001b[0m, in \u001b[0;36mImplicitFactorizationModel._initialize\u001b[0;34m(self, interactions)\u001b[0m\n\u001b[1;32m    135\u001b[0m     \u001b[38;5;28mself\u001b[39m\u001b[38;5;241m.\u001b[39m_net \u001b[38;5;241m=\u001b[39m gpu(\n\u001b[1;32m    136\u001b[0m         BilinearNet(\u001b[38;5;28mself\u001b[39m\u001b[38;5;241m.\u001b[39m_num_users,\n\u001b[1;32m    137\u001b[0m                     \u001b[38;5;28mself\u001b[39m\u001b[38;5;241m.\u001b[39m_num_items,\n\u001b[0;32m   (...)\u001b[0m\n\u001b[1;32m    140\u001b[0m         \u001b[38;5;28mself\u001b[39m\u001b[38;5;241m.\u001b[39m_use_cuda\n\u001b[1;32m    141\u001b[0m     )\n\u001b[1;32m    143\u001b[0m \u001b[38;5;28;01mif\u001b[39;00m \u001b[38;5;28mself\u001b[39m\u001b[38;5;241m.\u001b[39m_optimizer_func \u001b[38;5;129;01mis\u001b[39;00m \u001b[38;5;28;01mNone\u001b[39;00m:\n\u001b[1;32m    144\u001b[0m     \u001b[38;5;28mself\u001b[39m\u001b[38;5;241m.\u001b[39m_optimizer \u001b[38;5;241m=\u001b[39m optim\u001b[38;5;241m.\u001b[39mAdam(\n\u001b[0;32m--> 145\u001b[0m         \u001b[38;5;28;43mself\u001b[39;49m\u001b[38;5;241;43m.\u001b[39;49m\u001b[43m_net\u001b[49m\u001b[38;5;241;43m.\u001b[39;49m\u001b[43mparameters\u001b[49m(),\n\u001b[1;32m    146\u001b[0m         weight_decay\u001b[38;5;241m=\u001b[39m\u001b[38;5;28mself\u001b[39m\u001b[38;5;241m.\u001b[39m_l2,\n\u001b[1;32m    147\u001b[0m         lr\u001b[38;5;241m=\u001b[39m\u001b[38;5;28mself\u001b[39m\u001b[38;5;241m.\u001b[39m_learning_rate\n\u001b[1;32m    148\u001b[0m     )\n\u001b[1;32m    149\u001b[0m \u001b[38;5;28;01melse\u001b[39;00m:\n\u001b[1;32m    150\u001b[0m     \u001b[38;5;28mself\u001b[39m\u001b[38;5;241m.\u001b[39m_optimizer \u001b[38;5;241m=\u001b[39m \u001b[38;5;28mself\u001b[39m\u001b[38;5;241m.\u001b[39m_optimizer_func(\u001b[38;5;28mself\u001b[39m\u001b[38;5;241m.\u001b[39m_net\u001b[38;5;241m.\u001b[39mparameters())\n",
      "\u001b[0;31mAttributeError\u001b[0m: 'str' object has no attribute 'parameters'"
     ]
    }
   ],
   "source": [
    "# Execution\n",
    "\n",
    "from spotlight.cross_validation import random_train_test_split\n",
    "\n",
    "dataset = define_dataset(config)\n",
    "train, test = random_train_test_split(dataset)\n",
    "if config[\"model\"] == \"sequence\":\n",
    "    train, test = train.to_sequence(), test\n",
    "model = define_model(config)\n",
    "model.fit(train)\n",
    "\n",
    "eval = evaluate_model(model, test)\n",
    "eval"
   ]
  },
  {
   "cell_type": "code",
   "execution_count": 15,
   "id": "44ba71e5-73df-4b68-aae0-cb72bb3719bd",
   "metadata": {},
   "outputs": [],
   "source": [
    "import torch\n",
    "\n",
    "savePath = \"../pipeline/trained_model_\" + config['model']\n",
    "torch.save(model, savePath)"
   ]
  },
  {
   "cell_type": "code",
   "execution_count": null,
   "id": "9a4453a6-d62d-44f2-95a7-2c7b336b8776",
   "metadata": {},
   "outputs": [],
   "source": []
  }
 ],
 "metadata": {
  "kernelspec": {
   "display_name": "Python 3 (ipykernel)",
   "language": "python",
   "name": "python3"
  },
  "language_info": {
   "codemirror_mode": {
    "name": "ipython",
    "version": 3
   },
   "file_extension": ".py",
   "mimetype": "text/x-python",
   "name": "python",
   "nbconvert_exporter": "python",
   "pygments_lexer": "ipython3",
   "version": "3.10.13"
  }
 },
 "nbformat": 4,
 "nbformat_minor": 5
}
