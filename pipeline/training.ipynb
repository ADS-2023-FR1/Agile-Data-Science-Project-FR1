{
 "cells": [
  {
   "cell_type": "markdown",
   "id": "ec2bc841-f8bb-4f06-ba2c-ed405435c1ad",
   "metadata": {},
   "source": [
    "This pipeline is designed to train the model in an automated way.\n",
    "First, we will define a config with all the specifications. This dictionary is vital to keep track of the models we have used.\n",
    "Then run the model and extract the metrics that we need, to evaluate the training."
   ]
  },
  {
   "cell_type": "code",
   "execution_count": 12,
   "id": "eed9dd0d-6803-496c-926f-84674e5e7da6",
   "metadata": {},
   "outputs": [
    {
     "name": "stdout",
     "output_type": "stream",
     "text": [
      "{'model': 'sequence', 'submodel': 'implicit', 'loss': 'pointwise', 'representation': 'pooling', 'embedding_dim': 32, 'n_iter': 10, 'batch_size': 256, 'l2': 0.0, 'lr': 0.01, 'optim': None, 'use_cuda': False, 'sparse': False, 'random_state': None, 'num_negative_samples': 5, 'dataset': 'Movielens', 'size': '100K'}\n"
     ]
    }
   ],
   "source": [
    "#import config from file\n",
    "import json\n",
    "\n",
    "with open(\"config.json\", 'r') as f:\n",
    "    config = json.load(f)\n",
    "\n",
    "print(config)"
   ]
  },
  {
   "cell_type": "code",
   "execution_count": 1,
   "id": "36e38cc3-432b-405d-904f-661282e49d65",
   "metadata": {},
   "outputs": [],
   "source": [
    "# or define it manually\n",
    "\n",
    "config = {\n",
    "    # About the model\n",
    "    \"model\": \"sequence\",    # sequence or factorizer\n",
    "    \"submodel\": \"implicit\",    # implicit or explicit\n",
    "    \"loss\": \"pointwise\",    # one of ‘pointwise’, ‘bpr’, ‘hinge’, ‘adaptive_hinge’\n",
    "    \"representation\": \"pooling\",    # one of ‘pooling’, ‘cnn’, ‘lstm’, ‘mixture’\n",
    "    \"embedding_dim\": 32,\n",
    "    \"n_iter\": 10,\n",
    "    \"batch_size\": 256,\n",
    "    \"l2\": 0.0,\n",
    "    \"lr\": 0.01,\n",
    "    \"optim\": None,\n",
    "    \"use_cuda\": False, \n",
    "    \"sparse\": False, \n",
    "    \"random_state\": None, \n",
    "    \"num_negative_samples\": 5,\n",
    "\n",
    "    # About the database\n",
    "    \"dataset\": \"Movielens\",    # Movielens, Synthetic or Goodbooks\n",
    "    \"size\": \"100K\",\n",
    "    # synthetic has a lot of different parameters but I'm not sure we are going to use it\n",
    "}"
   ]
  },
  {
   "cell_type": "code",
   "execution_count": 2,
   "id": "04e9210f-bac6-43c3-8a11-7d688d5c6bb2",
   "metadata": {},
   "outputs": [],
   "source": [
    "def define_model(config):\n",
    "    \"\"\"Function to define the model based on the parameters of the config\"\"\"\n",
    "    \n",
    "    if config[\"model\"] == \"sequence\" and config[\"submodel\"] == \"implicit\":\n",
    "        from spotlight.sequence.implicit import ImplicitSequenceModel as ImportModel\n",
    "    elif config[\"model\"] == \"factorizer\" and config[\"submodel\"] == \"implicit\":\n",
    "        from spotlight.factorization.implicit import ImplicitFactorizationModel as ImportModel\n",
    "    elif config[\"model\"] == \"factorizer\" and config[\"submodel\"] == \"explicit\":\n",
    "        from spotlight.factorization.implicit import ImplicitFactorizationModel as ImportModel\n",
    "    else:\n",
    "        raise Exception(f\"Incorrect model configuration for model {config[\"model\"]} and submodel {config[\"submodel\"]}.\")\n",
    "    return ImportModel(loss=config[\"loss\"], representation=config[\"representation\"], embedding_dim=config[\"embedding_dim\"],\n",
    "                       n_iter=config[\"n_iter\"], batch_size=config[\"batch_size\"], l2=config[\"l2\"], learning_rate=config[\"lr\"],\n",
    "                       optimizer_func=config[\"optim\"], use_cuda=config[\"use_cuda\"], sparse=config[\"sparse\"], \n",
    "                       random_state=config[\"random_state\"], num_negative_samples=config[\"num_negative_samples\"])"
   ]
  },
  {
   "cell_type": "code",
   "execution_count": 3,
   "id": "23fdf0a3-0268-474a-9cbb-0dbd073e6b41",
   "metadata": {},
   "outputs": [],
   "source": [
    "def define_dataset(config):\n",
    "    \"\"\"Function to define the dataset based on the parameters of the config\"\"\"\n",
    "    from spotlight.datasets.movielens import get_movielens_dataset\n",
    "    from spotlight.datasets.synthetic import generate_sequential\n",
    "    from spotlight.datasets.goodbooks import get_goodbooks_dataset\n",
    "    \n",
    "    if config[\"dataset\"] == \"Movielens\":\n",
    "        return get_movielens_dataset(variant=config[\"size\"])\n",
    "    elif config[\"dataset\"] == \"Synthetic\":\n",
    "        return generate_sequential()\n",
    "    elif config[\"dataset\"] == \"Goodbooks\":\n",
    "        return get_goodbooks_dataset()\n",
    "    else:\n",
    "        raise Exception(f\"Incorrect dataset configuration for dataset {config[\"dataset\"]}.\")"
   ]
  },
  {
   "cell_type": "code",
   "execution_count": 4,
   "id": "c1e5c3cd-ecf2-4db4-b9ab-348ccb777e3d",
   "metadata": {},
   "outputs": [],
   "source": [
    "def evaluate_model(model, test):\n",
    "    \"\"\"This function evaluates the metric agreed by the team.\n",
    "    At the moment we have not decided which ones so I just pick 2 as an example.\"\"\"\n",
    "    from spotlight.evaluation import mrr_score, precision_recall_score, rmse_score, sequence_mrr_score, sequence_precision_recall_score\n",
    "    eval = {\"mrr\": mrr_score(model, test), \"precision_recall\": precision_recall_score(model, test), #\"rmse\": rmse_score(model, test),\n",
    "            #\"sequence_mrr\":sequence_mrr_score(model, test), \"sequence_precision_recall\": sequence_precision_recall_score(model, test)\n",
    "           }\n",
    "    return eval"
   ]
  },
  {
   "cell_type": "code",
   "execution_count": 5,
   "id": "286be65b-40eb-41e6-aae8-5e17ee56fa1e",
   "metadata": {},
   "outputs": [],
   "source": [
    "import os\n",
    "os.chdir(\"../spotlight\")\n",
    "# for me, it only works if I'm in the spotlight directory"
   ]
  },
  {
   "cell_type": "code",
   "execution_count": 6,
   "id": "327880fa-3b3a-418a-acd0-94947c81e240",
   "metadata": {},
   "outputs": [],
   "source": [
    "# Execution\n",
    "\n",
    "from spotlight.cross_validation import random_train_test_split\n",
    "\n",
    "dataset = define_dataset(config)\n",
    "train, test = random_train_test_split(dataset)\n",
    "train, test = train.to_sequence(), test\n",
    "model = define_model(config)\n",
    "model.fit(train)\n",
    "\n",
    "eval = evaluate_model(model, test)"
   ]
  },
  {
   "cell_type": "code",
   "execution_count": null,
   "id": "44ba71e5-73df-4b68-aae0-cb72bb3719bd",
   "metadata": {},
   "outputs": [],
   "source": []
  }
 ],
 "metadata": {
  "kernelspec": {
   "display_name": "Python 3 (ipykernel)",
   "language": "python",
   "name": "python3"
  },
  "language_info": {
   "codemirror_mode": {
    "name": "ipython",
    "version": 3
   },
   "file_extension": ".py",
   "mimetype": "text/x-python",
   "name": "python",
   "nbconvert_exporter": "python",
   "pygments_lexer": "ipython3",
   "version": "3.12.0"
  }
 },
 "nbformat": 4,
 "nbformat_minor": 5
}
