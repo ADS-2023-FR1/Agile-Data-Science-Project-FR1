{
 "cells": [
  {
   "cell_type": "markdown",
   "id": "c0831ce0",
   "metadata": {},
   "source": [
    "# 1. Testing different Models"
   ]
  },
  {
   "cell_type": "code",
   "execution_count": 2,
   "id": "8fe3160e-c83f-40a2-b447-961d0d3f05f5",
   "metadata": {},
   "outputs": [
    {
     "data": {
      "text/plain": [
       "0.99168646"
      ]
     },
     "execution_count": 2,
     "metadata": {},
     "output_type": "execute_result"
    }
   ],
   "source": [
    "from spotlight.cross_validation import random_train_test_split\n",
    "from spotlight.datasets.movielens import get_movielens_dataset\n",
    "from spotlight.evaluation import rmse_score\n",
    "from spotlight.factorization.explicit import ExplicitFactorizationModel\n",
    "\n",
    "dataset = get_movielens_dataset(variant='100K')\n",
    "\n",
    "train, test = random_train_test_split(dataset)\n",
    "\n",
    "model = ExplicitFactorizationModel(n_iter=1)\n",
    "model.fit(train)\n",
    "\n",
    "rmse = rmse_score(model, test)\n",
    "rmse"
   ]
  },
  {
   "cell_type": "markdown",
   "id": "dbab287f",
   "metadata": {},
   "source": [
    "Tareas:\n",
    "1. Mirar y resumir los dsitintos modelos, probarlos\n",
    "2. Probar distintos tamaños de los modelos\n",
    "3. Hacer el "
   ]
  },
  {
   "cell_type": "code",
   "execution_count": 3,
   "id": "ca4e2028-be59-4df7-805a-e8798e784bd4",
   "metadata": {},
   "outputs": [],
   "source": [
    "from spotlight.cross_validation import random_train_test_split\n",
    "from spotlight.datasets.movielens import get_movielens_dataset\n",
    "from spotlight.evaluation import mrr_score\n",
    "from spotlight.factorization.implicit import ImplicitFactorizationModel\n",
    "\n",
    "dataset = get_movielens_dataset(variant='100K')\n",
    "\n",
    "train, test = random_train_test_split(dataset)\n",
    "\n",
    "model = ImplicitFactorizationModel(n_iter=3,\n",
    "                                   loss='bpr')\n",
    "model.fit(train)\n",
    "\n",
    "mrr = mrr_score(model, test)"
   ]
  },
  {
   "cell_type": "markdown",
   "id": "aa0a878d",
   "metadata": {},
   "source": [
    "# 2. Testing new user film imputs"
   ]
  },
  {
   "cell_type": "code",
   "execution_count": 15,
   "id": "0849aa5b",
   "metadata": {},
   "outputs": [
    {
     "data": {
      "text/plain": [
       "943"
      ]
     },
     "execution_count": 15,
     "metadata": {},
     "output_type": "execute_result"
    }
   ],
   "source": [
    "len(np.unique(dataset.user_ids))"
   ]
  },
  {
   "cell_type": "code",
   "execution_count": 10,
   "id": "e9514807",
   "metadata": {},
   "outputs": [
    {
     "data": {
      "text/plain": [
       "array([ 242,  302,  377, ..., 1090,  225,  203], dtype=int32)"
      ]
     },
     "execution_count": 10,
     "metadata": {},
     "output_type": "execute_result"
    }
   ],
   "source": [
    "dataset.item_ids"
   ]
  },
  {
   "cell_type": "code",
   "execution_count": 9,
   "id": "55f6f94b",
   "metadata": {},
   "outputs": [
    {
     "data": {
      "text/plain": [
       "array([3., 3., 1., ..., 1., 2., 3.], dtype=float32)"
      ]
     },
     "execution_count": 9,
     "metadata": {},
     "output_type": "execute_result"
    }
   ],
   "source": [
    "dataset.ratings"
   ]
  },
  {
   "cell_type": "code",
   "execution_count": 4,
   "id": "12e85664",
   "metadata": {},
   "outputs": [
    {
     "ename": "AttributeError",
     "evalue": "'Interactions' object has no attribute 'sequences'",
     "output_type": "error",
     "traceback": [
      "\u001b[0;31m---------------------------------------------------------------------------\u001b[0m",
      "\u001b[0;31mAttributeError\u001b[0m                            Traceback (most recent call last)",
      "Cell \u001b[0;32mIn[4], line 12\u001b[0m\n\u001b[1;32m      9\u001b[0m rate \u001b[38;5;241m=\u001b[39m np\u001b[38;5;241m.\u001b[39marray(rate, dtype\u001b[38;5;241m=\u001b[39mnp\u001b[38;5;241m.\u001b[39mfloat32)\n\u001b[1;32m     11\u001b[0m new \u001b[38;5;241m=\u001b[39m Interactions(user_ids\u001b[38;5;241m=\u001b[39mus, item_ids\u001b[38;5;241m=\u001b[39mits, ratings\u001b[38;5;241m=\u001b[39mrate)\n\u001b[0;32m---> 12\u001b[0m \u001b[43mmodel\u001b[49m\u001b[38;5;241;43m.\u001b[39;49m\u001b[43mfit\u001b[49m\u001b[43m(\u001b[49m\u001b[43mnew\u001b[49m\u001b[43m)\u001b[49m\n",
      "File \u001b[0;32m~/Software/Python/envAstro/lib/python3.10/site-packages/spotlight-0.1.6-py3.10.egg/spotlight/sequence/implicit.py:208\u001b[0m, in \u001b[0;36mImplicitSequenceModel.fit\u001b[0;34m(self, interactions, verbose)\u001b[0m\n\u001b[1;32m    193\u001b[0m \u001b[38;5;28;01mdef\u001b[39;00m \u001b[38;5;21mfit\u001b[39m(\u001b[38;5;28mself\u001b[39m, interactions, verbose\u001b[38;5;241m=\u001b[39m\u001b[38;5;28;01mFalse\u001b[39;00m):\n\u001b[1;32m    194\u001b[0m \u001b[38;5;250m    \u001b[39m\u001b[38;5;124;03m\"\"\"\u001b[39;00m\n\u001b[1;32m    195\u001b[0m \u001b[38;5;124;03m    Fit the model.\u001b[39;00m\n\u001b[1;32m    196\u001b[0m \n\u001b[0;32m   (...)\u001b[0m\n\u001b[1;32m    205\u001b[0m \u001b[38;5;124;03m        The input sequence dataset.\u001b[39;00m\n\u001b[1;32m    206\u001b[0m \u001b[38;5;124;03m    \"\"\"\u001b[39;00m\n\u001b[0;32m--> 208\u001b[0m     sequences \u001b[38;5;241m=\u001b[39m \u001b[43minteractions\u001b[49m\u001b[38;5;241;43m.\u001b[39;49m\u001b[43msequences\u001b[49m\u001b[38;5;241m.\u001b[39mastype(np\u001b[38;5;241m.\u001b[39mint64)\n\u001b[1;32m    210\u001b[0m     \u001b[38;5;28;01mif\u001b[39;00m \u001b[38;5;129;01mnot\u001b[39;00m \u001b[38;5;28mself\u001b[39m\u001b[38;5;241m.\u001b[39m_initialized:\n\u001b[1;32m    211\u001b[0m         \u001b[38;5;28mself\u001b[39m\u001b[38;5;241m.\u001b[39m_initialize(interactions)\n",
      "\u001b[0;31mAttributeError\u001b[0m: 'Interactions' object has no attribute 'sequences'"
     ]
    }
   ],
   "source": [
    "import numpy as np\n",
    "from spotlight.interactions import Interactions\n",
    "\n",
    "us = [93,944]\n",
    "its = [23,12]\n",
    "us = np.array(us, dtype=np.int32)\n",
    "its = np.array(its, dtype=np.int32)\n",
    "rate = [3,4]\n",
    "rate = np.array(rate, dtype=np.float32)\n",
    "\n",
    "new = Interactions(user_ids=us, item_ids=its, ratings=rate)\n",
    "model.fit(new)"
   ]
  },
  {
   "cell_type": "markdown",
   "id": "82443629",
   "metadata": {},
   "source": [
    "It appears thar for every new user or film the model needs to be scratched and retraiened from 0 for factoricer models. We will then proceed with sequential models."
   ]
  },
  {
   "cell_type": "code",
   "execution_count": null,
   "id": "abb3b973",
   "metadata": {},
   "outputs": [],
   "source": [
    "from spotlight.cross_validation import user_based_train_test_split\n",
    "from spotlight.datasets.synthetic import generate_sequential\n",
    "from spotlight.evaluation import sequence_mrr_score\n",
    "from spotlight.sequence.implicit import ImplicitSequenceModel\n",
    "from spotlight.datasets.movielens import get_movielens_dataset\n",
    "\n",
    "\n",
    "dataset = get_movielens_dataset(variant='20M')\n",
    "\n",
    "\n",
    "train, test = user_based_train_test_split(dataset)\n",
    "\n",
    "train = train.to_sequence()\n",
    "test = test.to_sequence()\n",
    "\n",
    "model = ImplicitSequenceModel(n_iter=3,\n",
    "                              representation='cnn',\n",
    "                              loss='bpr')\n",
    "model.fit(train)\n",
    "\n",
    "mrr = sequence_mrr_score(model, test)\n",
    "mrr"
   ]
  },
  {
   "cell_type": "code",
   "execution_count": null,
   "id": "0ddfe2b6",
   "metadata": {},
   "outputs": [],
   "source": [
    "import numpy as np\n",
    "its = [23,12,22,34,42,55,60,20,1,2,12]\n",
    "its = np.array(its, dtype=np.int32)\n",
    "\n",
    "pred = model.predict(its)\n",
    "pred"
   ]
  },
  {
   "cell_type": "markdown",
   "id": "65e44545",
   "metadata": {},
   "source": [
    "# New users need intermidiate functions for interpretation"
   ]
  },
  {
   "cell_type": "code",
   "execution_count": 59,
   "id": "a5fccf4d",
   "metadata": {},
   "outputs": [],
   "source": [
    "import pandas as pd\n",
    "import difflib\n",
    "\n",
    "def get_movie_identifier(item_id):\n",
    "    \"\"\"\n",
    "    Gets the movie imdbId and tmdbId for a movie title\n",
    "    \"\"\"\n",
    "    links = pd.read_csv('links.csv')\n",
    "    return links['imdbId'][links['movieId']==item_id].values[0]\n",
    "\n",
    "def get_movie_id(title):\n",
    "    \"\"\"\n",
    "    Gets the movie id for a movie title match\n",
    "    \"\"\"\n",
    "    movies = pd.read_csv('movies.csv')\n",
    "    \n",
    "\n",
    "    existing_titles = list(movies['title'].values)\n",
    "    closest_titles = difflib.get_close_matches(title, existing_titles)\n",
    "    \n",
    "    if len(closest_titles)==0: \n",
    "        print(\"Spelling Mistake in titles \\n or not in library\")\n",
    "        return 1\n",
    "    movie_id =  movies['movieId'][movies['title']==closest_titles[0]].values[0]\n",
    "    return movie_id\n",
    "\n",
    "\n",
    "def get_movie_title(movie_id):\n",
    "    \"\"\"\n",
    "    Gets the movie imdbId and tmdbId for a movie title\n",
    "    \"\"\"\n",
    "    movies = pd.read_csv('movies.csv')\n",
    "    return movies['title'][movies['movieId']==movie_id].values[0]"
   ]
  },
  {
   "cell_type": "code",
   "execution_count": 47,
   "id": "9a71cfb4",
   "metadata": {},
   "outputs": [
    {
     "data": {
      "text/plain": [
       "array([114709])"
      ]
     },
     "execution_count": 47,
     "metadata": {},
     "output_type": "execute_result"
    }
   ],
   "source": [
    "get_movie_identifier(1)"
   ]
  },
  {
   "cell_type": "code",
   "execution_count": 48,
   "id": "5ac36fca",
   "metadata": {},
   "outputs": [
    {
     "data": {
      "text/plain": [
       "'Jumanji (1995)'"
      ]
     },
     "execution_count": 48,
     "metadata": {},
     "output_type": "execute_result"
    }
   ],
   "source": [
    "get_movie_title(2)"
   ]
  },
  {
   "cell_type": "code",
   "execution_count": 23,
   "id": "89ecf6ae",
   "metadata": {},
   "outputs": [
    {
     "ename": "NameError",
     "evalue": "name 'torch' is not defined",
     "output_type": "error",
     "traceback": [
      "\u001b[0;31m---------------------------------------------------------------------------\u001b[0m",
      "\u001b[0;31mNameError\u001b[0m                                 Traceback (most recent call last)",
      "Cell \u001b[0;32mIn[23], line 1\u001b[0m\n\u001b[0;32m----> 1\u001b[0m \u001b[43mtorch\u001b[49m\u001b[38;5;241m.\u001b[39mload()\n",
      "\u001b[0;31mNameError\u001b[0m: name 'torch' is not defined"
     ]
    }
   ],
   "source": [
    "torch.load()"
   ]
  },
  {
   "cell_type": "markdown",
   "id": "c294fedc",
   "metadata": {},
   "source": [
    "# Function for movie recommendations for new users."
   ]
  },
  {
   "cell_type": "code",
   "execution_count": 62,
   "id": "db54bdb7",
   "metadata": {},
   "outputs": [],
   "source": [
    "import torch\n",
    "\n",
    "def recommend_new_sequence(movies, model_path, n_recom=5):\n",
    "    \"\"\"\n",
    "    Receives a trained model path, a sequence of movie titles,\n",
    "    associates them to a movielens ID\n",
    "    and then predicst n_recoms new movies\n",
    "    for the user and returns their titles.\n",
    "    \"\"\"\n",
    "    movies_ids = [get_movie_id(m) for m in movies]\n",
    "    spotlight_model = torch.load(model_path) # Load model\n",
    "    \n",
    "    pred = spotlight_model.predict(movies_ids) # In the prediction we could specify a specific subpool in future filter implemtation\n",
    "    indices = np.argpartition(pred, -n_recom)[-n_recom:] \n",
    "    best_movie_ids = indices[np.argsort(pred[indices])]\n",
    "    titles = [get_movie_title(b+1) for b in best_movie_ids]\n",
    "    return titles"
   ]
  },
  {
   "cell_type": "code",
   "execution_count": 63,
   "id": "8fc9431c",
   "metadata": {},
   "outputs": [
    {
     "data": {
      "text/plain": [
       "['Guardian Angel (1994)',\n",
       " \"Jupiter's Wife (1994)\",\n",
       " 'Only You (1994)',\n",
       " 'Nina Takes a Lover (1994)',\n",
       " 'Kiss of Death (1995)']"
      ]
     },
     "execution_count": 63,
     "metadata": {},
     "output_type": "execute_result"
    }
   ],
   "source": [
    "from spotlight.cross_validation import user_based_train_test_split\n",
    "from spotlight.datasets.synthetic import generate_sequential\n",
    "from spotlight.evaluation import sequence_mrr_score\n",
    "from spotlight.sequence.implicit import ImplicitSequenceModel\n",
    "from spotlight.datasets.movielens import get_movielens_dataset\n",
    "import torch\n",
    "import numpy as np\n",
    "\n",
    "dataset = get_movielens_dataset(variant='100K')\n",
    "train = dataset.to_sequence()\n",
    "\n",
    "model = ImplicitSequenceModel(n_iter=3,\n",
    "                              representation='cnn',\n",
    "                              loss='bpr')\n",
    "model.fit(train)\n",
    "model_path = \"testmodel\"\n",
    "torch.save(model, model_path)\n",
    "\n",
    "movies = np.array(['Sabrina', 'Mortal Kombat'])\n",
    "recommend_new_sequence(movies, model_path)"
   ]
  },
  {
   "cell_type": "code",
   "execution_count": null,
   "id": "11006108",
   "metadata": {},
   "outputs": [],
   "source": []
  }
 ],
 "metadata": {
  "kernelspec": {
   "display_name": "Python 3 (ipykernel)",
   "language": "python",
   "name": "python3"
  },
  "language_info": {
   "codemirror_mode": {
    "name": "ipython",
    "version": 3
   },
   "file_extension": ".py",
   "mimetype": "text/x-python",
   "name": "python",
   "nbconvert_exporter": "python",
   "pygments_lexer": "ipython3",
   "version": "3.10.12"
  }
 },
 "nbformat": 4,
 "nbformat_minor": 5
}
