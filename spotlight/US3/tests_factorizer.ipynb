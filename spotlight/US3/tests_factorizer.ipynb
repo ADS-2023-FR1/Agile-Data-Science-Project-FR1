{
 "cells": [
  {
   "cell_type": "code",
   "execution_count": 1,
   "id": "8d747525-f470-46a9-9a59-a5f5600a462c",
   "metadata": {},
   "outputs": [
    {
     "name": "stdout",
     "output_type": "stream",
     "text": [
      "/Users/jdieguez/Documents/master/agile/Agile-Data-Science-Project-FR1/spotlight/US3\n"
     ]
    }
   ],
   "source": [
    "import os\n",
    "print(os.getcwd())\n",
    "os.chdir(\"..\")"
   ]
  },
  {
   "cell_type": "code",
   "execution_count": 2,
   "id": "78c89b15-ee79-425b-a7a5-e8aa5942ab20",
   "metadata": {},
   "outputs": [
    {
     "data": {
      "text/plain": [
       "1.0023539"
      ]
     },
     "execution_count": 2,
     "metadata": {},
     "output_type": "execute_result"
    }
   ],
   "source": [
    "from spotlight.cross_validation import random_train_test_split\n",
    "from spotlight.datasets.movielens import get_movielens_dataset\n",
    "from spotlight.evaluation import rmse_score\n",
    "from spotlight.factorization.explicit import ExplicitFactorizationModel\n",
    "\n",
    "dataset = get_movielens_dataset(variant='100K')\n",
    "\n",
    "train, test = random_train_test_split(dataset)\n",
    "\n",
    "model = ExplicitFactorizationModel(n_iter=1)\n",
    "model.fit(train)\n",
    "\n",
    "rmse = rmse_score(model, test)\n",
    "rmse"
   ]
  },
  {
   "cell_type": "code",
   "execution_count": 5,
   "id": "8966dfe8-8612-40d5-9f29-490e29b33d12",
   "metadata": {},
   "outputs": [
    {
     "name": "stdout",
     "output_type": "stream",
     "text": [
      "[523 843 607 ...  94 128 721]\n"
     ]
    }
   ],
   "source": [
    "print(train.user_ids)"
   ]
  },
  {
   "cell_type": "code",
   "execution_count": 7,
   "id": "aff4eb0c-723f-424c-a8b3-36e77fb01c1e",
   "metadata": {},
   "outputs": [
    {
     "data": {
      "text/plain": [
       "array([0.70989764, 4.197814  , 3.2821653 , ..., 1.7070429 , 0.59509516,\n",
       "       0.55575323], dtype=float32)"
      ]
     },
     "execution_count": 7,
     "metadata": {},
     "output_type": "execute_result"
    }
   ],
   "source": [
    "model.predict(1)"
   ]
  },
  {
   "cell_type": "code",
   "execution_count": null,
   "id": "e5e8fcde-9ace-4497-b5e4-44c90478346b",
   "metadata": {},
   "outputs": [],
   "source": []
  }
 ],
 "metadata": {
  "kernelspec": {
   "display_name": "Python 3 (ipykernel)",
   "language": "python",
   "name": "python3"
  },
  "language_info": {
   "codemirror_mode": {
    "name": "ipython",
    "version": 3
   },
   "file_extension": ".py",
   "mimetype": "text/x-python",
   "name": "python",
   "nbconvert_exporter": "python",
   "pygments_lexer": "ipython3",
   "version": "3.12.0"
  }
 },
 "nbformat": 4,
 "nbformat_minor": 5
}
